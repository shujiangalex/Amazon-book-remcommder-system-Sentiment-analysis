{
 "cells": [
  {
   "cell_type": "code",
   "execution_count": 2,
   "metadata": {},
   "outputs": [],
   "source": [
    "import pandas as pd"
   ]
  },
  {
   "cell_type": "markdown",
   "metadata": {},
   "source": [
    "# Data cleaning - Business"
   ]
  },
  {
   "cell_type": "code",
   "execution_count": 49,
   "metadata": {},
   "outputs": [
    {
     "name": "stderr",
     "output_type": "stream",
     "text": [
      "/Users/huchenhui/opt/anaconda3/lib/python3.7/site-packages/IPython/core/interactiveshell.py:3058: DtypeWarning: Columns (17) have mixed types. Specify dtype option on import or set low_memory=False.\n",
      "  interactivity=interactivity, compiler=compiler, result=result)\n"
     ]
    }
   ],
   "source": [
    "df1 = pd.read_csv(\"Business-Page1 V2.csv\")"
   ]
  },
  {
   "cell_type": "code",
   "execution_count": 37,
   "metadata": {},
   "outputs": [
    {
     "data": {
      "text/plain": [
       "Index(['web-scraper-order', 'web-scraper-start-url', 'book_link',\n",
       "       'book_link-href', 'review_link', 'review_link-href', 'review_content',\n",
       "       'book_name', 'Author', 'review_count', 'overall_rating', 'price',\n",
       "       'publisher', 'review date', 'review rating', 'language', 'ISBN',\n",
       "       'pages'],\n",
       "      dtype='object')"
      ]
     },
     "execution_count": 37,
     "metadata": {},
     "output_type": "execute_result"
    }
   ],
   "source": [
    "df1.columns"
   ]
  },
  {
   "cell_type": "code",
   "execution_count": 50,
   "metadata": {},
   "outputs": [],
   "source": [
    "df1=df1.drop(['web-scraper-order', 'web-scraper-start-url', 'book_link',\n",
    "              'book_link-href', 'review_link', 'review_link-href', 'overall_rating',\n",
    "              'review date','language', 'ISBN'],axis=1)"
   ]
  },
  {
   "cell_type": "code",
   "execution_count": 51,
   "metadata": {},
   "outputs": [],
   "source": [
    "df1=df1.drop_duplicates(subset=None,keep='first')\n",
    "df1['review rating']=df1['review rating'].astype(str).str.extract('(\\d)',expand=True)"
   ]
  },
  {
   "cell_type": "code",
   "execution_count": 52,
   "metadata": {},
   "outputs": [
    {
     "data": {
      "text/html": [
       "<div>\n",
       "<style scoped>\n",
       "    .dataframe tbody tr th:only-of-type {\n",
       "        vertical-align: middle;\n",
       "    }\n",
       "\n",
       "    .dataframe tbody tr th {\n",
       "        vertical-align: top;\n",
       "    }\n",
       "\n",
       "    .dataframe thead th {\n",
       "        text-align: right;\n",
       "    }\n",
       "</style>\n",
       "<table border=\"1\" class=\"dataframe\">\n",
       "  <thead>\n",
       "    <tr style=\"text-align: right;\">\n",
       "      <th></th>\n",
       "      <th>review_content</th>\n",
       "      <th>book_name</th>\n",
       "      <th>Author</th>\n",
       "      <th>review_count</th>\n",
       "      <th>price</th>\n",
       "      <th>publisher</th>\n",
       "      <th>review rating</th>\n",
       "      <th>pages</th>\n",
       "      <th>Category</th>\n",
       "    </tr>\n",
       "  </thead>\n",
       "  <tbody>\n",
       "    <tr>\n",
       "      <td>0</td>\n",
       "      <td>A lot of folks who have rated low seem to want...</td>\n",
       "      <td>The Compound Effect</td>\n",
       "      <td>Darren Hardy</td>\n",
       "      <td>3,332 ratings</td>\n",
       "      <td>$12.39</td>\n",
       "      <td>Publisher: Vanguard Press; Csm edition (Octobe...</td>\n",
       "      <td>5</td>\n",
       "      <td>NaN</td>\n",
       "      <td>Business</td>\n",
       "    </tr>\n",
       "    <tr>\n",
       "      <td>1</td>\n",
       "      <td>Very good</td>\n",
       "      <td>12 Rules for Life: An Antidote to Chaos</td>\n",
       "      <td>Jordan B. Peterson</td>\n",
       "      <td>12,058 ratings</td>\n",
       "      <td>$14.99</td>\n",
       "      <td>Publisher: Penguin (May 2, 2019)</td>\n",
       "      <td>5</td>\n",
       "      <td>NaN</td>\n",
       "      <td>Business</td>\n",
       "    </tr>\n",
       "    <tr>\n",
       "      <td>2</td>\n",
       "      <td>Seen people recommend Dwecks fixed/growth mind...</td>\n",
       "      <td>Mindset: The New Psychology of Success</td>\n",
       "      <td>Carol S. Dweck</td>\n",
       "      <td>3,595 ratings</td>\n",
       "      <td>$10.15</td>\n",
       "      <td>Publisher: Ballantine Books; Reprint, Updated ...</td>\n",
       "      <td>1</td>\n",
       "      <td>NaN</td>\n",
       "      <td>Business</td>\n",
       "    </tr>\n",
       "    <tr>\n",
       "      <td>3</td>\n",
       "      <td>This is a must read for anyone interested in t...</td>\n",
       "      <td>Mindset: The New Psychology of Success</td>\n",
       "      <td>Carol S. Dweck</td>\n",
       "      <td>3,595 ratings</td>\n",
       "      <td>$10.15</td>\n",
       "      <td>Publisher: Ballantine Books; Reprint, Updated ...</td>\n",
       "      <td>5</td>\n",
       "      <td>NaN</td>\n",
       "      <td>Business</td>\n",
       "    </tr>\n",
       "    <tr>\n",
       "      <td>4</td>\n",
       "      <td>Repetitive.  Book could have been cut in half....</td>\n",
       "      <td>Mindset: The New Psychology of Success</td>\n",
       "      <td>Carol S. Dweck</td>\n",
       "      <td>3,595 ratings</td>\n",
       "      <td>$10.15</td>\n",
       "      <td>Publisher: Ballantine Books; Reprint, Updated ...</td>\n",
       "      <td>2</td>\n",
       "      <td>NaN</td>\n",
       "      <td>Business</td>\n",
       "    </tr>\n",
       "  </tbody>\n",
       "</table>\n",
       "</div>"
      ],
      "text/plain": [
       "                                      review_content  \\\n",
       "0  A lot of folks who have rated low seem to want...   \n",
       "1                                          Very good   \n",
       "2  Seen people recommend Dwecks fixed/growth mind...   \n",
       "3  This is a must read for anyone interested in t...   \n",
       "4  Repetitive.  Book could have been cut in half....   \n",
       "\n",
       "                                 book_name              Author  \\\n",
       "0                      The Compound Effect        Darren Hardy   \n",
       "1  12 Rules for Life: An Antidote to Chaos  Jordan B. Peterson   \n",
       "2   Mindset: The New Psychology of Success      Carol S. Dweck   \n",
       "3   Mindset: The New Psychology of Success      Carol S. Dweck   \n",
       "4   Mindset: The New Psychology of Success      Carol S. Dweck   \n",
       "\n",
       "     review_count    price                                          publisher  \\\n",
       "0   3,332 ratings  $12.39   Publisher: Vanguard Press; Csm edition (Octobe...   \n",
       "1  12,058 ratings  $14.99                    Publisher: Penguin (May 2, 2019)   \n",
       "2   3,595 ratings  $10.15   Publisher: Ballantine Books; Reprint, Updated ...   \n",
       "3   3,595 ratings  $10.15   Publisher: Ballantine Books; Reprint, Updated ...   \n",
       "4   3,595 ratings  $10.15   Publisher: Ballantine Books; Reprint, Updated ...   \n",
       "\n",
       "  review rating pages  Category  \n",
       "0             5   NaN  Business  \n",
       "1             5   NaN  Business  \n",
       "2             1   NaN  Business  \n",
       "3             5   NaN  Business  \n",
       "4             2   NaN  Business  "
      ]
     },
     "execution_count": 52,
     "metadata": {},
     "output_type": "execute_result"
    }
   ],
   "source": [
    "df1['Category'] = 'Business'\n",
    "df1.head(5)"
   ]
  },
  {
   "cell_type": "markdown",
   "metadata": {},
   "source": [
    "# Data cleaning - Children"
   ]
  },
  {
   "cell_type": "code",
   "execution_count": 53,
   "metadata": {},
   "outputs": [
    {
     "name": "stderr",
     "output_type": "stream",
     "text": [
      "/Users/huchenhui/opt/anaconda3/lib/python3.7/site-packages/IPython/core/interactiveshell.py:3058: DtypeWarning: Columns (16,17) have mixed types. Specify dtype option on import or set low_memory=False.\n",
      "  interactivity=interactivity, compiler=compiler, result=result)\n"
     ]
    }
   ],
   "source": [
    "df2 = pd.read_csv(\"Children-Page1 V2.csv\")"
   ]
  },
  {
   "cell_type": "code",
   "execution_count": 54,
   "metadata": {},
   "outputs": [],
   "source": [
    "df2=df2.drop(['web-scraper-order', 'web-scraper-start-url', 'book_link',\n",
    "              'book_link-href', 'review_link', 'review_link-href', 'overall_rating',\n",
    "              'review date','language', 'ISBN'],axis=1)"
   ]
  },
  {
   "cell_type": "code",
   "execution_count": 55,
   "metadata": {},
   "outputs": [],
   "source": [
    "df2['review rating']=df2['review rating'].astype(str).str.extract('(\\d)',expand=True)"
   ]
  },
  {
   "cell_type": "code",
   "execution_count": 56,
   "metadata": {},
   "outputs": [],
   "source": [
    "df2=df2.drop_duplicates(subset=None,keep='first')"
   ]
  },
  {
   "cell_type": "code",
   "execution_count": 57,
   "metadata": {},
   "outputs": [],
   "source": [
    "df2['Category'] = 'Children'"
   ]
  },
  {
   "cell_type": "markdown",
   "metadata": {},
   "source": [
    "# Data cleaning - Humor"
   ]
  },
  {
   "cell_type": "code",
   "execution_count": 58,
   "metadata": {},
   "outputs": [],
   "source": [
    "df3 = pd.read_csv(\"Humor-Page1 V2.csv\")"
   ]
  },
  {
   "cell_type": "code",
   "execution_count": 59,
   "metadata": {},
   "outputs": [],
   "source": [
    "df3=df3.drop(['web-scraper-order', 'web-scraper-start-url', 'book_link',\n",
    "              'book_link-href', 'review_link', 'review_link-href', 'overall_rating',\n",
    "              'review date','language', 'ISBN'],axis=1)"
   ]
  },
  {
   "cell_type": "code",
   "execution_count": 60,
   "metadata": {},
   "outputs": [],
   "source": [
    "df3['review rating']=df3['review rating'].astype(str).str.extract('(\\d)',expand=True)"
   ]
  },
  {
   "cell_type": "code",
   "execution_count": 61,
   "metadata": {},
   "outputs": [
    {
     "data": {
      "text/html": [
       "<div>\n",
       "<style scoped>\n",
       "    .dataframe tbody tr th:only-of-type {\n",
       "        vertical-align: middle;\n",
       "    }\n",
       "\n",
       "    .dataframe tbody tr th {\n",
       "        vertical-align: top;\n",
       "    }\n",
       "\n",
       "    .dataframe thead th {\n",
       "        text-align: right;\n",
       "    }\n",
       "</style>\n",
       "<table border=\"1\" class=\"dataframe\">\n",
       "  <thead>\n",
       "    <tr style=\"text-align: right;\">\n",
       "      <th></th>\n",
       "      <th>review_content</th>\n",
       "      <th>book_name</th>\n",
       "      <th>Author</th>\n",
       "      <th>review_count</th>\n",
       "      <th>price</th>\n",
       "      <th>publisher</th>\n",
       "      <th>review rating</th>\n",
       "      <th>pages</th>\n",
       "    </tr>\n",
       "  </thead>\n",
       "  <tbody>\n",
       "    <tr>\n",
       "      <td>0</td>\n",
       "      <td>It's filled with just the right amount of beau...</td>\n",
       "      <td>The Beauty of Horror 1: A GOREgeous Coloring Book</td>\n",
       "      <td>Alan Robert</td>\n",
       "      <td>1,390 ratings</td>\n",
       "      <td>$15.98</td>\n",
       "      <td>Publisher: IDW Publishing; Clr Csm edition (Oc...</td>\n",
       "      <td>5</td>\n",
       "      <td>Paperback: 80 pages</td>\n",
       "    </tr>\n",
       "    <tr>\n",
       "      <td>1</td>\n",
       "      <td>There is no doubt in my mind that Kurt Vonnegu...</td>\n",
       "      <td>Slaughterhouse-Five: A Novel (Modern Library 1...</td>\n",
       "      <td>Kurt Vonnegut</td>\n",
       "      <td>3,473 ratings</td>\n",
       "      <td>$7.79</td>\n",
       "      <td>Publisher: Dial Press Trade Paperback; Reissue...</td>\n",
       "      <td>5</td>\n",
       "      <td>Paperback: 288 pages</td>\n",
       "    </tr>\n",
       "    <tr>\n",
       "      <td>2</td>\n",
       "      <td>Should have listened to the other reviews. I h...</td>\n",
       "      <td>Wacky Waving Inflatable Tube Guy (RP Minis)</td>\n",
       "      <td>NaN</td>\n",
       "      <td>4,319 ratings</td>\n",
       "      <td>$7.99</td>\n",
       "      <td>Publisher: RP Minis (October 2, 2018)</td>\n",
       "      <td>2</td>\n",
       "      <td>Paperback: 32 pages</td>\n",
       "    </tr>\n",
       "    <tr>\n",
       "      <td>3</td>\n",
       "      <td>Stumbling around for something good to read, I...</td>\n",
       "      <td>Slaughterhouse-Five: A Novel (Modern Library 1...</td>\n",
       "      <td>Kurt Vonnegut</td>\n",
       "      <td>3,473 ratings</td>\n",
       "      <td>$7.79</td>\n",
       "      <td>Publisher: Dial Press Trade Paperback; Reissue...</td>\n",
       "      <td>5</td>\n",
       "      <td>Paperback: 288 pages</td>\n",
       "    </tr>\n",
       "    <tr>\n",
       "      <td>4</td>\n",
       "      <td>It was smaller then I expected but was absolut...</td>\n",
       "      <td>The Screaming Goat (Book &amp; Figure)</td>\n",
       "      <td>NaN</td>\n",
       "      <td>3,149 ratings</td>\n",
       "      <td>$9.95</td>\n",
       "      <td>Publisher: RP Minis; Pap/Toy edition (April 5,...</td>\n",
       "      <td>5</td>\n",
       "      <td>Paperback: 32 pages</td>\n",
       "    </tr>\n",
       "  </tbody>\n",
       "</table>\n",
       "</div>"
      ],
      "text/plain": [
       "                                      review_content  \\\n",
       "0  It's filled with just the right amount of beau...   \n",
       "1  There is no doubt in my mind that Kurt Vonnegu...   \n",
       "2  Should have listened to the other reviews. I h...   \n",
       "3  Stumbling around for something good to read, I...   \n",
       "4  It was smaller then I expected but was absolut...   \n",
       "\n",
       "                                           book_name         Author  \\\n",
       "0  The Beauty of Horror 1: A GOREgeous Coloring Book    Alan Robert   \n",
       "1  Slaughterhouse-Five: A Novel (Modern Library 1...  Kurt Vonnegut   \n",
       "2        Wacky Waving Inflatable Tube Guy (RP Minis)            NaN   \n",
       "3  Slaughterhouse-Five: A Novel (Modern Library 1...  Kurt Vonnegut   \n",
       "4                 The Screaming Goat (Book & Figure)            NaN   \n",
       "\n",
       "    review_count    price                                          publisher  \\\n",
       "0  1,390 ratings  $15.98   Publisher: IDW Publishing; Clr Csm edition (Oc...   \n",
       "1  3,473 ratings   $7.79   Publisher: Dial Press Trade Paperback; Reissue...   \n",
       "2  4,319 ratings   $7.99               Publisher: RP Minis (October 2, 2018)   \n",
       "3  3,473 ratings   $7.79   Publisher: Dial Press Trade Paperback; Reissue...   \n",
       "4  3,149 ratings   $9.95   Publisher: RP Minis; Pap/Toy edition (April 5,...   \n",
       "\n",
       "  review rating                 pages  \n",
       "0             5   Paperback: 80 pages  \n",
       "1             5  Paperback: 288 pages  \n",
       "2             2   Paperback: 32 pages  \n",
       "3             5  Paperback: 288 pages  \n",
       "4             5   Paperback: 32 pages  "
      ]
     },
     "execution_count": 61,
     "metadata": {},
     "output_type": "execute_result"
    }
   ],
   "source": [
    "df3=df3.drop_duplicates(subset=None,keep='first')\n",
    "df3.head(5)"
   ]
  },
  {
   "cell_type": "code",
   "execution_count": 62,
   "metadata": {},
   "outputs": [
    {
     "data": {
      "text/html": [
       "<div>\n",
       "<style scoped>\n",
       "    .dataframe tbody tr th:only-of-type {\n",
       "        vertical-align: middle;\n",
       "    }\n",
       "\n",
       "    .dataframe tbody tr th {\n",
       "        vertical-align: top;\n",
       "    }\n",
       "\n",
       "    .dataframe thead th {\n",
       "        text-align: right;\n",
       "    }\n",
       "</style>\n",
       "<table border=\"1\" class=\"dataframe\">\n",
       "  <thead>\n",
       "    <tr style=\"text-align: right;\">\n",
       "      <th></th>\n",
       "      <th>review_content</th>\n",
       "      <th>book_name</th>\n",
       "      <th>Author</th>\n",
       "      <th>review_count</th>\n",
       "      <th>price</th>\n",
       "      <th>publisher</th>\n",
       "      <th>review rating</th>\n",
       "      <th>pages</th>\n",
       "      <th>Category</th>\n",
       "    </tr>\n",
       "  </thead>\n",
       "  <tbody>\n",
       "    <tr>\n",
       "      <td>0</td>\n",
       "      <td>It's filled with just the right amount of beau...</td>\n",
       "      <td>The Beauty of Horror 1: A GOREgeous Coloring Book</td>\n",
       "      <td>Alan Robert</td>\n",
       "      <td>1,390 ratings</td>\n",
       "      <td>$15.98</td>\n",
       "      <td>Publisher: IDW Publishing; Clr Csm edition (Oc...</td>\n",
       "      <td>5</td>\n",
       "      <td>Paperback: 80 pages</td>\n",
       "      <td>Humor</td>\n",
       "    </tr>\n",
       "    <tr>\n",
       "      <td>1</td>\n",
       "      <td>There is no doubt in my mind that Kurt Vonnegu...</td>\n",
       "      <td>Slaughterhouse-Five: A Novel (Modern Library 1...</td>\n",
       "      <td>Kurt Vonnegut</td>\n",
       "      <td>3,473 ratings</td>\n",
       "      <td>$7.79</td>\n",
       "      <td>Publisher: Dial Press Trade Paperback; Reissue...</td>\n",
       "      <td>5</td>\n",
       "      <td>Paperback: 288 pages</td>\n",
       "      <td>Humor</td>\n",
       "    </tr>\n",
       "    <tr>\n",
       "      <td>2</td>\n",
       "      <td>Should have listened to the other reviews. I h...</td>\n",
       "      <td>Wacky Waving Inflatable Tube Guy (RP Minis)</td>\n",
       "      <td>NaN</td>\n",
       "      <td>4,319 ratings</td>\n",
       "      <td>$7.99</td>\n",
       "      <td>Publisher: RP Minis (October 2, 2018)</td>\n",
       "      <td>2</td>\n",
       "      <td>Paperback: 32 pages</td>\n",
       "      <td>Humor</td>\n",
       "    </tr>\n",
       "    <tr>\n",
       "      <td>3</td>\n",
       "      <td>Stumbling around for something good to read, I...</td>\n",
       "      <td>Slaughterhouse-Five: A Novel (Modern Library 1...</td>\n",
       "      <td>Kurt Vonnegut</td>\n",
       "      <td>3,473 ratings</td>\n",
       "      <td>$7.79</td>\n",
       "      <td>Publisher: Dial Press Trade Paperback; Reissue...</td>\n",
       "      <td>5</td>\n",
       "      <td>Paperback: 288 pages</td>\n",
       "      <td>Humor</td>\n",
       "    </tr>\n",
       "    <tr>\n",
       "      <td>4</td>\n",
       "      <td>It was smaller then I expected but was absolut...</td>\n",
       "      <td>The Screaming Goat (Book &amp; Figure)</td>\n",
       "      <td>NaN</td>\n",
       "      <td>3,149 ratings</td>\n",
       "      <td>$9.95</td>\n",
       "      <td>Publisher: RP Minis; Pap/Toy edition (April 5,...</td>\n",
       "      <td>5</td>\n",
       "      <td>Paperback: 32 pages</td>\n",
       "      <td>Humor</td>\n",
       "    </tr>\n",
       "  </tbody>\n",
       "</table>\n",
       "</div>"
      ],
      "text/plain": [
       "                                      review_content  \\\n",
       "0  It's filled with just the right amount of beau...   \n",
       "1  There is no doubt in my mind that Kurt Vonnegu...   \n",
       "2  Should have listened to the other reviews. I h...   \n",
       "3  Stumbling around for something good to read, I...   \n",
       "4  It was smaller then I expected but was absolut...   \n",
       "\n",
       "                                           book_name         Author  \\\n",
       "0  The Beauty of Horror 1: A GOREgeous Coloring Book    Alan Robert   \n",
       "1  Slaughterhouse-Five: A Novel (Modern Library 1...  Kurt Vonnegut   \n",
       "2        Wacky Waving Inflatable Tube Guy (RP Minis)            NaN   \n",
       "3  Slaughterhouse-Five: A Novel (Modern Library 1...  Kurt Vonnegut   \n",
       "4                 The Screaming Goat (Book & Figure)            NaN   \n",
       "\n",
       "    review_count    price                                          publisher  \\\n",
       "0  1,390 ratings  $15.98   Publisher: IDW Publishing; Clr Csm edition (Oc...   \n",
       "1  3,473 ratings   $7.79   Publisher: Dial Press Trade Paperback; Reissue...   \n",
       "2  4,319 ratings   $7.99               Publisher: RP Minis (October 2, 2018)   \n",
       "3  3,473 ratings   $7.79   Publisher: Dial Press Trade Paperback; Reissue...   \n",
       "4  3,149 ratings   $9.95   Publisher: RP Minis; Pap/Toy edition (April 5,...   \n",
       "\n",
       "  review rating                 pages Category  \n",
       "0             5   Paperback: 80 pages    Humor  \n",
       "1             5  Paperback: 288 pages    Humor  \n",
       "2             2   Paperback: 32 pages    Humor  \n",
       "3             5  Paperback: 288 pages    Humor  \n",
       "4             5   Paperback: 32 pages    Humor  "
      ]
     },
     "execution_count": 62,
     "metadata": {},
     "output_type": "execute_result"
    }
   ],
   "source": [
    "df3['Category'] = 'Humor'\n",
    "df3.head(5)"
   ]
  },
  {
   "cell_type": "markdown",
   "metadata": {},
   "source": [
    "# Combining data + Adding label"
   ]
  },
  {
   "cell_type": "code",
   "execution_count": 63,
   "metadata": {},
   "outputs": [
    {
     "data": {
      "text/html": [
       "<div>\n",
       "<style scoped>\n",
       "    .dataframe tbody tr th:only-of-type {\n",
       "        vertical-align: middle;\n",
       "    }\n",
       "\n",
       "    .dataframe tbody tr th {\n",
       "        vertical-align: top;\n",
       "    }\n",
       "\n",
       "    .dataframe thead th {\n",
       "        text-align: right;\n",
       "    }\n",
       "</style>\n",
       "<table border=\"1\" class=\"dataframe\">\n",
       "  <thead>\n",
       "    <tr style=\"text-align: right;\">\n",
       "      <th></th>\n",
       "      <th>review_content</th>\n",
       "      <th>book_name</th>\n",
       "      <th>Author</th>\n",
       "      <th>review_count</th>\n",
       "      <th>price</th>\n",
       "      <th>publisher</th>\n",
       "      <th>review rating</th>\n",
       "      <th>pages</th>\n",
       "      <th>Category</th>\n",
       "    </tr>\n",
       "  </thead>\n",
       "  <tbody>\n",
       "    <tr>\n",
       "      <td>0</td>\n",
       "      <td>A lot of folks who have rated low seem to want...</td>\n",
       "      <td>The Compound Effect</td>\n",
       "      <td>Darren Hardy</td>\n",
       "      <td>3,332 ratings</td>\n",
       "      <td>$12.39</td>\n",
       "      <td>Publisher: Vanguard Press; Csm edition (Octobe...</td>\n",
       "      <td>5</td>\n",
       "      <td>NaN</td>\n",
       "      <td>Business</td>\n",
       "    </tr>\n",
       "    <tr>\n",
       "      <td>1</td>\n",
       "      <td>Very good</td>\n",
       "      <td>12 Rules for Life: An Antidote to Chaos</td>\n",
       "      <td>Jordan B. Peterson</td>\n",
       "      <td>12,058 ratings</td>\n",
       "      <td>$14.99</td>\n",
       "      <td>Publisher: Penguin (May 2, 2019)</td>\n",
       "      <td>5</td>\n",
       "      <td>NaN</td>\n",
       "      <td>Business</td>\n",
       "    </tr>\n",
       "    <tr>\n",
       "      <td>2</td>\n",
       "      <td>Seen people recommend Dwecks fixed/growth mind...</td>\n",
       "      <td>Mindset: The New Psychology of Success</td>\n",
       "      <td>Carol S. Dweck</td>\n",
       "      <td>3,595 ratings</td>\n",
       "      <td>$10.15</td>\n",
       "      <td>Publisher: Ballantine Books; Reprint, Updated ...</td>\n",
       "      <td>1</td>\n",
       "      <td>NaN</td>\n",
       "      <td>Business</td>\n",
       "    </tr>\n",
       "    <tr>\n",
       "      <td>3</td>\n",
       "      <td>This is a must read for anyone interested in t...</td>\n",
       "      <td>Mindset: The New Psychology of Success</td>\n",
       "      <td>Carol S. Dweck</td>\n",
       "      <td>3,595 ratings</td>\n",
       "      <td>$10.15</td>\n",
       "      <td>Publisher: Ballantine Books; Reprint, Updated ...</td>\n",
       "      <td>5</td>\n",
       "      <td>NaN</td>\n",
       "      <td>Business</td>\n",
       "    </tr>\n",
       "    <tr>\n",
       "      <td>4</td>\n",
       "      <td>Repetitive.  Book could have been cut in half....</td>\n",
       "      <td>Mindset: The New Psychology of Success</td>\n",
       "      <td>Carol S. Dweck</td>\n",
       "      <td>3,595 ratings</td>\n",
       "      <td>$10.15</td>\n",
       "      <td>Publisher: Ballantine Books; Reprint, Updated ...</td>\n",
       "      <td>2</td>\n",
       "      <td>NaN</td>\n",
       "      <td>Business</td>\n",
       "    </tr>\n",
       "  </tbody>\n",
       "</table>\n",
       "</div>"
      ],
      "text/plain": [
       "                                      review_content  \\\n",
       "0  A lot of folks who have rated low seem to want...   \n",
       "1                                          Very good   \n",
       "2  Seen people recommend Dwecks fixed/growth mind...   \n",
       "3  This is a must read for anyone interested in t...   \n",
       "4  Repetitive.  Book could have been cut in half....   \n",
       "\n",
       "                                 book_name              Author  \\\n",
       "0                      The Compound Effect        Darren Hardy   \n",
       "1  12 Rules for Life: An Antidote to Chaos  Jordan B. Peterson   \n",
       "2   Mindset: The New Psychology of Success      Carol S. Dweck   \n",
       "3   Mindset: The New Psychology of Success      Carol S. Dweck   \n",
       "4   Mindset: The New Psychology of Success      Carol S. Dweck   \n",
       "\n",
       "     review_count    price                                          publisher  \\\n",
       "0   3,332 ratings  $12.39   Publisher: Vanguard Press; Csm edition (Octobe...   \n",
       "1  12,058 ratings  $14.99                    Publisher: Penguin (May 2, 2019)   \n",
       "2   3,595 ratings  $10.15   Publisher: Ballantine Books; Reprint, Updated ...   \n",
       "3   3,595 ratings  $10.15   Publisher: Ballantine Books; Reprint, Updated ...   \n",
       "4   3,595 ratings  $10.15   Publisher: Ballantine Books; Reprint, Updated ...   \n",
       "\n",
       "  review rating pages  Category  \n",
       "0             5   NaN  Business  \n",
       "1             5   NaN  Business  \n",
       "2             1   NaN  Business  \n",
       "3             5   NaN  Business  \n",
       "4             2   NaN  Business  "
      ]
     },
     "execution_count": 63,
     "metadata": {},
     "output_type": "execute_result"
    }
   ],
   "source": [
    "df = pd.concat([df1,df2,df3],ignore_index=True )\n",
    "df.head(5)"
   ]
  },
  {
   "cell_type": "code",
   "execution_count": 66,
   "metadata": {},
   "outputs": [],
   "source": [
    "df['totalwords'] = df['review_content'].str.split().str.len()"
   ]
  },
  {
   "cell_type": "code",
   "execution_count": 67,
   "metadata": {},
   "outputs": [
    {
     "data": {
      "text/html": [
       "<div>\n",
       "<style scoped>\n",
       "    .dataframe tbody tr th:only-of-type {\n",
       "        vertical-align: middle;\n",
       "    }\n",
       "\n",
       "    .dataframe tbody tr th {\n",
       "        vertical-align: top;\n",
       "    }\n",
       "\n",
       "    .dataframe thead th {\n",
       "        text-align: right;\n",
       "    }\n",
       "</style>\n",
       "<table border=\"1\" class=\"dataframe\">\n",
       "  <thead>\n",
       "    <tr style=\"text-align: right;\">\n",
       "      <th></th>\n",
       "      <th>review_content</th>\n",
       "      <th>book_name</th>\n",
       "      <th>Author</th>\n",
       "      <th>review_count</th>\n",
       "      <th>price</th>\n",
       "      <th>publisher</th>\n",
       "      <th>review rating</th>\n",
       "      <th>pages</th>\n",
       "      <th>Category</th>\n",
       "      <th>review_length</th>\n",
       "      <th>totalwords</th>\n",
       "    </tr>\n",
       "  </thead>\n",
       "  <tbody>\n",
       "    <tr>\n",
       "      <td>0</td>\n",
       "      <td>A lot of folks who have rated low seem to want...</td>\n",
       "      <td>The Compound Effect</td>\n",
       "      <td>Darren Hardy</td>\n",
       "      <td>3,332 ratings</td>\n",
       "      <td>$12.39</td>\n",
       "      <td>Publisher: Vanguard Press; Csm edition (Octobe...</td>\n",
       "      <td>5</td>\n",
       "      <td>NaN</td>\n",
       "      <td>Business</td>\n",
       "      <td>282311</td>\n",
       "      <td>119.0</td>\n",
       "    </tr>\n",
       "    <tr>\n",
       "      <td>1</td>\n",
       "      <td>Very good</td>\n",
       "      <td>12 Rules for Life: An Antidote to Chaos</td>\n",
       "      <td>Jordan B. Peterson</td>\n",
       "      <td>12,058 ratings</td>\n",
       "      <td>$14.99</td>\n",
       "      <td>Publisher: Penguin (May 2, 2019)</td>\n",
       "      <td>5</td>\n",
       "      <td>NaN</td>\n",
       "      <td>Business</td>\n",
       "      <td>282311</td>\n",
       "      <td>2.0</td>\n",
       "    </tr>\n",
       "    <tr>\n",
       "      <td>2</td>\n",
       "      <td>Seen people recommend Dwecks fixed/growth mind...</td>\n",
       "      <td>Mindset: The New Psychology of Success</td>\n",
       "      <td>Carol S. Dweck</td>\n",
       "      <td>3,595 ratings</td>\n",
       "      <td>$10.15</td>\n",
       "      <td>Publisher: Ballantine Books; Reprint, Updated ...</td>\n",
       "      <td>1</td>\n",
       "      <td>NaN</td>\n",
       "      <td>Business</td>\n",
       "      <td>282311</td>\n",
       "      <td>138.0</td>\n",
       "    </tr>\n",
       "    <tr>\n",
       "      <td>3</td>\n",
       "      <td>This is a must read for anyone interested in t...</td>\n",
       "      <td>Mindset: The New Psychology of Success</td>\n",
       "      <td>Carol S. Dweck</td>\n",
       "      <td>3,595 ratings</td>\n",
       "      <td>$10.15</td>\n",
       "      <td>Publisher: Ballantine Books; Reprint, Updated ...</td>\n",
       "      <td>5</td>\n",
       "      <td>NaN</td>\n",
       "      <td>Business</td>\n",
       "      <td>282311</td>\n",
       "      <td>36.0</td>\n",
       "    </tr>\n",
       "    <tr>\n",
       "      <td>4</td>\n",
       "      <td>Repetitive.  Book could have been cut in half....</td>\n",
       "      <td>Mindset: The New Psychology of Success</td>\n",
       "      <td>Carol S. Dweck</td>\n",
       "      <td>3,595 ratings</td>\n",
       "      <td>$10.15</td>\n",
       "      <td>Publisher: Ballantine Books; Reprint, Updated ...</td>\n",
       "      <td>2</td>\n",
       "      <td>NaN</td>\n",
       "      <td>Business</td>\n",
       "      <td>282311</td>\n",
       "      <td>27.0</td>\n",
       "    </tr>\n",
       "  </tbody>\n",
       "</table>\n",
       "</div>"
      ],
      "text/plain": [
       "                                      review_content  \\\n",
       "0  A lot of folks who have rated low seem to want...   \n",
       "1                                          Very good   \n",
       "2  Seen people recommend Dwecks fixed/growth mind...   \n",
       "3  This is a must read for anyone interested in t...   \n",
       "4  Repetitive.  Book could have been cut in half....   \n",
       "\n",
       "                                 book_name              Author  \\\n",
       "0                      The Compound Effect        Darren Hardy   \n",
       "1  12 Rules for Life: An Antidote to Chaos  Jordan B. Peterson   \n",
       "2   Mindset: The New Psychology of Success      Carol S. Dweck   \n",
       "3   Mindset: The New Psychology of Success      Carol S. Dweck   \n",
       "4   Mindset: The New Psychology of Success      Carol S. Dweck   \n",
       "\n",
       "     review_count    price                                          publisher  \\\n",
       "0   3,332 ratings  $12.39   Publisher: Vanguard Press; Csm edition (Octobe...   \n",
       "1  12,058 ratings  $14.99                    Publisher: Penguin (May 2, 2019)   \n",
       "2   3,595 ratings  $10.15   Publisher: Ballantine Books; Reprint, Updated ...   \n",
       "3   3,595 ratings  $10.15   Publisher: Ballantine Books; Reprint, Updated ...   \n",
       "4   3,595 ratings  $10.15   Publisher: Ballantine Books; Reprint, Updated ...   \n",
       "\n",
       "  review rating pages  Category  review_length  totalwords  \n",
       "0             5   NaN  Business         282311       119.0  \n",
       "1             5   NaN  Business         282311         2.0  \n",
       "2             1   NaN  Business         282311       138.0  \n",
       "3             5   NaN  Business         282311        36.0  \n",
       "4             2   NaN  Business         282311        27.0  "
      ]
     },
     "execution_count": 67,
     "metadata": {},
     "output_type": "execute_result"
    }
   ],
   "source": [
    "df.head()"
   ]
  },
  {
   "cell_type": "code",
   "execution_count": null,
   "metadata": {},
   "outputs": [],
   "source": [
    "df['review rating'] =df['review rating'].astype(float)"
   ]
  },
  {
   "cell_type": "code",
   "execution_count": 70,
   "metadata": {},
   "outputs": [
    {
     "data": {
      "text/plain": [
       "<matplotlib.axes._subplots.AxesSubplot at 0x125bf5610>"
      ]
     },
     "execution_count": 70,
     "metadata": {},
     "output_type": "execute_result"
    },
    {
     "data": {
      "image/png": "[encoded data removed]",
      "text/plain": [
       "<Figure size 432x288 with 1 Axes>"
      ]
     },
     "metadata": {},
     "output_type": "display_data"
    }
   ],
   "source": [
    "sns.scatterplot(x=\"review rating\", y=\"totalwords\", data=df)"
   ]
  },
  {
   "cell_type": "code",
   "execution_count": 71,
   "metadata": {},
   "outputs": [
    {
     "data": {
      "text/plain": [
       "<matplotlib.axes._subplots.AxesSubplot at 0x1a2d103b50>"
      ]
     },
     "execution_count": 71,
     "metadata": {},
     "output_type": "execute_result"
    },
    {
     "data": {
      "image/png": "[encoded data removed]",
      "text/plain": [
       "<Figure size 432x288 with 1 Axes>"
      ]
     },
     "metadata": {},
     "output_type": "display_data"
    }
   ],
   "source": [
    "sns.boxplot(x=\"review rating\", y=\"totalwords\", data=df)"
   ]
  },
  {
   "cell_type": "code",
   "execution_count": 75,
   "metadata": {},
   "outputs": [
    {
     "data": {
      "text/plain": [
       "<matplotlib.axes._subplots.AxesSubplot at 0x1a2d1ac290>"
      ]
     },
     "execution_count": 75,
     "metadata": {},
     "output_type": "execute_result"
    },
    {
     "data": {
      "image/png": "[encoded data removed]",
      "text/plain": [
       "<Figure size 432x288 with 1 Axes>"
      ]
     },
     "metadata": {},
     "output_type": "display_data"
    }
   ],
   "source": [
    "df.groupby('review rating')['totalwords'].mean().plot(rot = 45,title = \"Average Word Counts vs Review Rating\")"
   ]
  },
  {
   "cell_type": "code",
   "execution_count": 44,
   "metadata": {},
   "outputs": [],
   "source": [
    "df['price'] =df['price'].astype(str).str.extract('(\\d)',expand=True)\n",
    "df['price'] =df['price'].astype(float)"
   ]
  },
  {
   "cell_type": "code",
   "execution_count": 46,
   "metadata": {},
   "outputs": [],
   "source": [
    "sns.set(style = 'whitegrid')"
   ]
  },
  {
   "cell_type": "code",
   "execution_count": 48,
   "metadata": {},
   "outputs": [
    {
     "data": {
      "text/plain": [
       "<matplotlib.axes._subplots.AxesSubplot at 0x12663acd0>"
      ]
     },
     "execution_count": 48,
     "metadata": {},
     "output_type": "execute_result"
    },
    {
     "data": {
      "image/png": "[encoded data removed]",
      "text/plain": [
       "<Figure size 432x288 with 1 Axes>"
      ]
     },
     "metadata": {},
     "output_type": "display_data"
    }
   ],
   "source": [
    "df.groupby('Category')['Author'].nunique().plot.bar(rot=45, title = 'Book Count Across Categories', color = ['r', 'b', 'g'])"
   ]
  },
  {
   "cell_type": "code",
   "execution_count": 36,
   "metadata": {},
   "outputs": [],
   "source": [
    "import seaborn as sns"
   ]
  },
  {
   "cell_type": "code",
   "execution_count": 39,
   "metadata": {},
   "outputs": [
    {
     "data": {
      "text/plain": [
       "Text(0.5, 1.0, 'Rating Distribution Across Categories')"
      ]
     },
     "execution_count": 39,
     "metadata": {},
     "output_type": "execute_result"
    },
    {
     "data": {
      "image/png": "[encoded data removed]",
      "text/plain": [
       "<Figure size 432x288 with 1 Axes>"
      ]
     },
     "metadata": {
      "needs_background": "light"
     },
     "output_type": "display_data"
    }
   ],
   "source": [
    "sns.boxplot(y='review rating', x='Category', data = df, palette = 'colorblind').set_title('Rating Distribution Across Categories')\n"
   ]
  },
  {
   "cell_type": "code",
   "execution_count": 45,
   "metadata": {},
   "outputs": [
    {
     "data": {
      "text/plain": [
       "Text(0.5, 1.0, 'Price Distribution Across Categories')"
      ]
     },
     "execution_count": 45,
     "metadata": {},
     "output_type": "execute_result"
    },
    {
     "data": {
      "image/png": "[encoded data removed]",
      "text/plain": [
       "<Figure size 432x288 with 1 Axes>"
      ]
     },
     "metadata": {
      "needs_background": "light"
     },
     "output_type": "display_data"
    }
   ],
   "source": [
    "sns.boxplot(y='price', x='Category', data = df, palette = 'colorblind').set_title('Price Distribution Across Categories')"
   ]
  },
  {
   "cell_type": "code",
   "execution_count": 55,
   "metadata": {},
   "outputs": [],
   "source": [
    "df.loc[df['review rating'] >= 3, 'Label'] = 1\n",
    "df.loc[df['review rating'] < 3, 'Label'] = 0"
   ]
  },
  {
   "cell_type": "code",
   "execution_count": 58,
   "metadata": {},
   "outputs": [
    {
     "data": {
      "text/html": [
       "<div>\n",
       "<style scoped>\n",
       "    .dataframe tbody tr th:only-of-type {\n",
       "        vertical-align: middle;\n",
       "    }\n",
       "\n",
       "    .dataframe tbody tr th {\n",
       "        vertical-align: top;\n",
       "    }\n",
       "\n",
       "    .dataframe thead th {\n",
       "        text-align: right;\n",
       "    }\n",
       "</style>\n",
       "<table border=\"1\" class=\"dataframe\">\n",
       "  <thead>\n",
       "    <tr style=\"text-align: right;\">\n",
       "      <th></th>\n",
       "      <th>review_content</th>\n",
       "      <th>review rating</th>\n",
       "      <th>Category</th>\n",
       "      <th>Label</th>\n",
       "    </tr>\n",
       "  </thead>\n",
       "  <tbody>\n",
       "    <tr>\n",
       "      <th>0</th>\n",
       "      <td>A lot of folks who have rated low seem to want...</td>\n",
       "      <td>5.0</td>\n",
       "      <td>Business</td>\n",
       "      <td>1</td>\n",
       "    </tr>\n",
       "    <tr>\n",
       "      <th>1</th>\n",
       "      <td>Very good</td>\n",
       "      <td>5.0</td>\n",
       "      <td>Business</td>\n",
       "      <td>1</td>\n",
       "    </tr>\n",
       "    <tr>\n",
       "      <th>2</th>\n",
       "      <td>Seen people recommend Dwecks fixed/growth mind...</td>\n",
       "      <td>1.0</td>\n",
       "      <td>Business</td>\n",
       "      <td>0</td>\n",
       "    </tr>\n",
       "    <tr>\n",
       "      <th>3</th>\n",
       "      <td>This is a must read for anyone interested in t...</td>\n",
       "      <td>5.0</td>\n",
       "      <td>Business</td>\n",
       "      <td>1</td>\n",
       "    </tr>\n",
       "    <tr>\n",
       "      <th>4</th>\n",
       "      <td>Repetitive.  Book could have been cut in half....</td>\n",
       "      <td>2.0</td>\n",
       "      <td>Business</td>\n",
       "      <td>0</td>\n",
       "    </tr>\n",
       "  </tbody>\n",
       "</table>\n",
       "</div>"
      ],
      "text/plain": [
       "                                      review_content  review rating  Category  \\\n",
       "0  A lot of folks who have rated low seem to want...            5.0  Business   \n",
       "1                                          Very good            5.0  Business   \n",
       "2  Seen people recommend Dwecks fixed/growth mind...            1.0  Business   \n",
       "3  This is a must read for anyone interested in t...            5.0  Business   \n",
       "4  Repetitive.  Book could have been cut in half....            2.0  Business   \n",
       "\n",
       "   Label  \n",
       "0      1  \n",
       "1      1  \n",
       "2      0  \n",
       "3      1  \n",
       "4      0  "
      ]
     },
     "execution_count": 58,
     "metadata": {},
     "output_type": "execute_result"
    }
   ],
   "source": [
    "df['Label'] =df['Label'].astype(int)\n",
    "df.head(5)"
   ]
  },
  {
   "cell_type": "markdown",
   "metadata": {},
   "source": [
    "# Cleaning text"
   ]
  },
  {
   "cell_type": "code",
   "execution_count": 65,
   "metadata": {},
   "outputs": [],
   "source": [
    "import nltk\n",
    "import re\n",
    "from nltk.corpus import stopwords\n",
    "\n",
    "stopwords = set(stopwords.words('english'))\n",
    "cut_model = nltk.WordPunctTokenizer()\n",
    "lemmatizer = nltk.stem.WordNetLemmatizer()"
   ]
  },
  {
   "cell_type": "code",
   "execution_count": 66,
   "metadata": {},
   "outputs": [],
   "source": [
    "#define text normalize function\n",
    "def Normalize_text(doc):\n",
    "    doc = re.sub(r'[^a-zA-Z0-9\\s]', '', string=doc)\n",
    "    doc = doc.lower() \n",
    "    doc = doc.strip()\n",
    "    tokens = cut_model.tokenize(doc)\n",
    "    doc = [token for token in tokens if token not in stopwords]\n",
    "    doc = \" \".join(doc)\n",
    "\n",
    "    return doc"
   ]
  },
  {
   "cell_type": "code",
   "execution_count": 68,
   "metadata": {},
   "outputs": [
    {
     "data": {
      "text/plain": [
       "pandas.core.series.Series"
      ]
     },
     "execution_count": 68,
     "metadata": {},
     "output_type": "execute_result"
    }
   ],
   "source": [
    "type(df['review_content'])"
   ]
  },
  {
   "cell_type": "code",
   "execution_count": 69,
   "metadata": {},
   "outputs": [],
   "source": [
    "df['review_content'] =df['review_content'].astype(str)"
   ]
  },
  {
   "cell_type": "code",
   "execution_count": 71,
   "metadata": {},
   "outputs": [
    {
     "data": {
      "text/html": [
       "<div>\n",
       "<style scoped>\n",
       "    .dataframe tbody tr th:only-of-type {\n",
       "        vertical-align: middle;\n",
       "    }\n",
       "\n",
       "    .dataframe tbody tr th {\n",
       "        vertical-align: top;\n",
       "    }\n",
       "\n",
       "    .dataframe thead th {\n",
       "        text-align: right;\n",
       "    }\n",
       "</style>\n",
       "<table border=\"1\" class=\"dataframe\">\n",
       "  <thead>\n",
       "    <tr style=\"text-align: right;\">\n",
       "      <th></th>\n",
       "      <th>review_content</th>\n",
       "      <th>review rating</th>\n",
       "      <th>Category</th>\n",
       "      <th>Label</th>\n",
       "    </tr>\n",
       "  </thead>\n",
       "  <tbody>\n",
       "    <tr>\n",
       "      <th>0</th>\n",
       "      <td>lot folks rated low seem want write book somet...</td>\n",
       "      <td>5.0</td>\n",
       "      <td>Business</td>\n",
       "      <td>1</td>\n",
       "    </tr>\n",
       "    <tr>\n",
       "      <th>1</th>\n",
       "      <td>good</td>\n",
       "      <td>5.0</td>\n",
       "      <td>Business</td>\n",
       "      <td>1</td>\n",
       "    </tr>\n",
       "    <tr>\n",
       "      <th>2</th>\n",
       "      <td>seen people recommend dwecks fixedgrowth minds...</td>\n",
       "      <td>1.0</td>\n",
       "      <td>Business</td>\n",
       "      <td>0</td>\n",
       "    </tr>\n",
       "    <tr>\n",
       "      <th>3</th>\n",
       "      <td>must read anyone interested mind even parents ...</td>\n",
       "      <td>5.0</td>\n",
       "      <td>Business</td>\n",
       "      <td>1</td>\n",
       "    </tr>\n",
       "    <tr>\n",
       "      <th>4</th>\n",
       "      <td>repetitive book could cut half read first chap...</td>\n",
       "      <td>2.0</td>\n",
       "      <td>Business</td>\n",
       "      <td>0</td>\n",
       "    </tr>\n",
       "  </tbody>\n",
       "</table>\n",
       "</div>"
      ],
      "text/plain": [
       "                                      review_content  review rating  Category  \\\n",
       "0  lot folks rated low seem want write book somet...            5.0  Business   \n",
       "1                                               good            5.0  Business   \n",
       "2  seen people recommend dwecks fixedgrowth minds...            1.0  Business   \n",
       "3  must read anyone interested mind even parents ...            5.0  Business   \n",
       "4  repetitive book could cut half read first chap...            2.0  Business   \n",
       "\n",
       "   Label  \n",
       "0      1  \n",
       "1      1  \n",
       "2      0  \n",
       "3      1  \n",
       "4      0  "
      ]
     },
     "execution_count": 71,
     "metadata": {},
     "output_type": "execute_result"
    }
   ],
   "source": [
    "df['review_content'] = df.review_content.apply(func=Normalize_text)\n",
    "df.head(5)"
   ]
  },
  {
   "cell_type": "code",
   "execution_count": null,
   "metadata": {},
   "outputs": [],
   "source": []
  }
 ],
 "metadata": {
  "kernelspec": {
   "display_name": "Python 3",
   "language": "python",
   "name": "python3"
  },
  "language_info": {
   "codemirror_mode": {
    "name": "ipython",
    "version": 3
   },
   "file_extension": ".py",
   "mimetype": "text/x-python",
   "name": "python",
   "nbconvert_exporter": "python",
   "pygments_lexer": "ipython3",
   "version": "3.7.4"
  }
 },
 "nbformat": 4,
 "nbformat_minor": 4
}
